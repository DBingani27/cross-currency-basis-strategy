{
 "cells": [
  {
   "cell_type": "markdown",
   "id": "e197d935",
   "metadata": {},
   "source": [
    "# Cross-Currency Basis Quant Research Project\n",
    "\n",
    "This notebook investigates the behavior of the USD/JPY cross-currency basis and develops a trading strategy based on mean reversion and PCA-based stress detection. It includes data preparation, regression, PCA analysis, signal generation, backtesting, and performance evaluation."
   ]
  },
  {
   "cell_type": "markdown",
   "id": "26e7f1b2",
   "metadata": {},
   "source": [
    "## Load and Prepare Data"
   ]
  },
  {
   "cell_type": "code",
   "execution_count": 1,
   "id": "82d095fd",
   "metadata": {},
   "outputs": [
    {
     "data": {
      "text/html": [
       "<div>\n",
       "<style scoped>\n",
       "    .dataframe tbody tr th:only-of-type {\n",
       "        vertical-align: middle;\n",
       "    }\n",
       "\n",
       "    .dataframe tbody tr th {\n",
       "        vertical-align: top;\n",
       "    }\n",
       "\n",
       "    .dataframe thead th {\n",
       "        text-align: right;\n",
       "    }\n",
       "</style>\n",
       "<table border=\"1\" class=\"dataframe\">\n",
       "  <thead>\n",
       "    <tr style=\"text-align: right;\">\n",
       "      <th></th>\n",
       "      <th>Date</th>\n",
       "      <th>USDJPY_Basis</th>\n",
       "      <th>USDEUR_Basis</th>\n",
       "      <th>VIX</th>\n",
       "      <th>LIBOR</th>\n",
       "      <th>TBill</th>\n",
       "      <th>TED</th>\n",
       "      <th>Fed_Balance_Sheet</th>\n",
       "    </tr>\n",
       "  </thead>\n",
       "  <tbody>\n",
       "    <tr>\n",
       "      <th>0</th>\n",
       "      <td>2009-01-01</td>\n",
       "      <td>-0.1275</td>\n",
       "      <td>-0.0315</td>\n",
       "      <td>22.48</td>\n",
       "      <td>0.4705</td>\n",
       "      <td>0.2075</td>\n",
       "      <td>0.2631</td>\n",
       "      <td>2200000.0</td>\n",
       "    </tr>\n",
       "    <tr>\n",
       "      <th>1</th>\n",
       "      <td>2009-01-02</td>\n",
       "      <td>-0.1459</td>\n",
       "      <td>-0.0292</td>\n",
       "      <td>19.31</td>\n",
       "      <td>0.3951</td>\n",
       "      <td>0.2182</td>\n",
       "      <td>0.1769</td>\n",
       "      <td>2201260.0</td>\n",
       "    </tr>\n",
       "    <tr>\n",
       "      <th>2</th>\n",
       "      <td>2009-01-05</td>\n",
       "      <td>-0.1482</td>\n",
       "      <td>-0.0135</td>\n",
       "      <td>23.24</td>\n",
       "      <td>0.4009</td>\n",
       "      <td>0.2004</td>\n",
       "      <td>0.2006</td>\n",
       "      <td>2202519.0</td>\n",
       "    </tr>\n",
       "    <tr>\n",
       "      <th>3</th>\n",
       "      <td>2009-01-06</td>\n",
       "      <td>-0.2692</td>\n",
       "      <td>-0.0227</td>\n",
       "      <td>27.62</td>\n",
       "      <td>0.4354</td>\n",
       "      <td>0.0957</td>\n",
       "      <td>0.3397</td>\n",
       "      <td>2203779.0</td>\n",
       "    </tr>\n",
       "    <tr>\n",
       "      <th>4</th>\n",
       "      <td>2009-01-07</td>\n",
       "      <td>-0.1127</td>\n",
       "      <td>0.0067</td>\n",
       "      <td>18.83</td>\n",
       "      <td>0.4117</td>\n",
       "      <td>0.2080</td>\n",
       "      <td>0.2036</td>\n",
       "      <td>2205038.0</td>\n",
       "    </tr>\n",
       "  </tbody>\n",
       "</table>\n",
       "</div>"
      ],
      "text/plain": [
       "        Date  USDJPY_Basis  USDEUR_Basis    VIX   LIBOR   TBill     TED  \\\n",
       "0 2009-01-01       -0.1275       -0.0315  22.48  0.4705  0.2075  0.2631   \n",
       "1 2009-01-02       -0.1459       -0.0292  19.31  0.3951  0.2182  0.1769   \n",
       "2 2009-01-05       -0.1482       -0.0135  23.24  0.4009  0.2004  0.2006   \n",
       "3 2009-01-06       -0.2692       -0.0227  27.62  0.4354  0.0957  0.3397   \n",
       "4 2009-01-07       -0.1127        0.0067  18.83  0.4117  0.2080  0.2036   \n",
       "\n",
       "   Fed_Balance_Sheet  \n",
       "0          2200000.0  \n",
       "1          2201260.0  \n",
       "2          2202519.0  \n",
       "3          2203779.0  \n",
       "4          2205038.0  "
      ]
     },
     "execution_count": 1,
     "metadata": {},
     "output_type": "execute_result"
    }
   ],
   "source": [
    "import pandas as pd\n",
    "import numpy as np\n",
    "import matplotlib.pyplot as plt\n",
    "\n",
    "# Load merged dataset\n",
    "df = pd.read_csv(\"merged_data.csv\", parse_dates=[\"Date\"])\n",
    "df.head()"
   ]
  },
  {
   "cell_type": "markdown",
   "id": "e42c8954",
   "metadata": {},
   "source": [
    "## Econometric Regression: Explaining the Basis"
   ]
  },
  {
   "cell_type": "code",
   "execution_count": 2,
   "id": "0f86f2bf",
   "metadata": {},
   "outputs": [
    {
     "ename": "ImportError",
     "evalue": "cannot import name '_lazywhere' from 'scipy._lib._util' (/Users/prescylliajaelle/Desktop/1Cross Currency/basis-env/lib/python3.11/site-packages/scipy/_lib/_util.py)",
     "output_type": "error",
     "traceback": [
      "\u001b[31m---------------------------------------------------------------------------\u001b[39m",
      "\u001b[31mImportError\u001b[39m                               Traceback (most recent call last)",
      "\u001b[36mCell\u001b[39m\u001b[36m \u001b[39m\u001b[32mIn[2]\u001b[39m\u001b[32m, line 1\u001b[39m\n\u001b[32m----> \u001b[39m\u001b[32m1\u001b[39m \u001b[38;5;28;01mimport\u001b[39;00m\u001b[38;5;250m \u001b[39m\u001b[34;01mstatsmodels\u001b[39;00m\u001b[34;01m.\u001b[39;00m\u001b[34;01mapi\u001b[39;00m\u001b[38;5;250m \u001b[39m\u001b[38;5;28;01mas\u001b[39;00m\u001b[38;5;250m \u001b[39m\u001b[34;01msm\u001b[39;00m\n\u001b[32m      3\u001b[39m \u001b[38;5;66;03m# Select variables\u001b[39;00m\n\u001b[32m      4\u001b[39m X = df[[\u001b[33m\"\u001b[39m\u001b[33mVIX\u001b[39m\u001b[33m\"\u001b[39m, \u001b[33m\"\u001b[39m\u001b[33mTED\u001b[39m\u001b[33m\"\u001b[39m, \u001b[33m\"\u001b[39m\u001b[33mFed_Balance_Sheet\u001b[39m\u001b[33m\"\u001b[39m]]\n",
      "\u001b[36mFile \u001b[39m\u001b[32m~/Desktop/1Cross Currency/basis-env/lib/python3.11/site-packages/statsmodels/api.py:76\u001b[39m\n\u001b[32m      1\u001b[39m __all__ = [\n\u001b[32m      2\u001b[39m     \u001b[33m\"\u001b[39m\u001b[33mBayesGaussMI\u001b[39m\u001b[33m\"\u001b[39m,\n\u001b[32m      3\u001b[39m     \u001b[33m\"\u001b[39m\u001b[33mBinomialBayesMixedGLM\u001b[39m\u001b[33m\"\u001b[39m,\n\u001b[32m   (...)\u001b[39m\u001b[32m     72\u001b[39m     \u001b[33m\"\u001b[39m\u001b[33m__version_info__\u001b[39m\u001b[33m\"\u001b[39m\n\u001b[32m     73\u001b[39m ]\n\u001b[32m---> \u001b[39m\u001b[32m76\u001b[39m \u001b[38;5;28;01mfrom\u001b[39;00m\u001b[38;5;250m \u001b[39m\u001b[34;01m.\u001b[39;00m\u001b[38;5;250m \u001b[39m\u001b[38;5;28;01mimport\u001b[39;00m datasets, distributions, iolib, regression, robust, tools\n\u001b[32m     77\u001b[39m \u001b[38;5;28;01mfrom\u001b[39;00m\u001b[38;5;250m \u001b[39m\u001b[34;01m.\u001b[39;00m\u001b[34;01m__init__\u001b[39;00m\u001b[38;5;250m \u001b[39m\u001b[38;5;28;01mimport\u001b[39;00m test\n\u001b[32m     78\u001b[39m \u001b[38;5;28;01mfrom\u001b[39;00m\u001b[38;5;250m \u001b[39m\u001b[34;01mstatsmodels\u001b[39;00m\u001b[34;01m.\u001b[39;00m\u001b[34;01m_version\u001b[39;00m\u001b[38;5;250m \u001b[39m\u001b[38;5;28;01mimport\u001b[39;00m (\n\u001b[32m     79\u001b[39m     version \u001b[38;5;28;01mas\u001b[39;00m __version__, version_tuple \u001b[38;5;28;01mas\u001b[39;00m __version_info__\n\u001b[32m     80\u001b[39m )\n",
      "\u001b[36mFile \u001b[39m\u001b[32m~/Desktop/1Cross Currency/basis-env/lib/python3.11/site-packages/statsmodels/distributions/__init__.py:7\u001b[39m\n\u001b[32m      2\u001b[39m \u001b[38;5;28;01mfrom\u001b[39;00m\u001b[38;5;250m \u001b[39m\u001b[34;01m.\u001b[39;00m\u001b[34;01mempirical_distribution\u001b[39;00m\u001b[38;5;250m \u001b[39m\u001b[38;5;28;01mimport\u001b[39;00m (\n\u001b[32m      3\u001b[39m     ECDF, ECDFDiscrete, monotone_fn_inverter, StepFunction\n\u001b[32m      4\u001b[39m     )\n\u001b[32m      5\u001b[39m \u001b[38;5;28;01mfrom\u001b[39;00m\u001b[38;5;250m \u001b[39m\u001b[34;01m.\u001b[39;00m\u001b[34;01medgeworth\u001b[39;00m\u001b[38;5;250m \u001b[39m\u001b[38;5;28;01mimport\u001b[39;00m ExpandedNormal\n\u001b[32m----> \u001b[39m\u001b[32m7\u001b[39m \u001b[38;5;28;01mfrom\u001b[39;00m\u001b[38;5;250m \u001b[39m\u001b[34;01m.\u001b[39;00m\u001b[34;01mdiscrete\u001b[39;00m\u001b[38;5;250m \u001b[39m\u001b[38;5;28;01mimport\u001b[39;00m (\n\u001b[32m      8\u001b[39m     genpoisson_p, zipoisson, zigenpoisson, zinegbin,\n\u001b[32m      9\u001b[39m     )\n\u001b[32m     11\u001b[39m __all__ = [\n\u001b[32m     12\u001b[39m     \u001b[33m'\u001b[39m\u001b[33mECDF\u001b[39m\u001b[33m'\u001b[39m,\n\u001b[32m     13\u001b[39m     \u001b[33m'\u001b[39m\u001b[33mECDFDiscrete\u001b[39m\u001b[33m'\u001b[39m,\n\u001b[32m   (...)\u001b[39m\u001b[32m     21\u001b[39m     \u001b[33m'\u001b[39m\u001b[33mzipoisson\u001b[39m\u001b[33m'\u001b[39m\n\u001b[32m     22\u001b[39m     ]\n\u001b[32m     24\u001b[39m test = PytestTester()\n",
      "\u001b[36mFile \u001b[39m\u001b[32m~/Desktop/1Cross Currency/basis-env/lib/python3.11/site-packages/statsmodels/distributions/discrete.py:5\u001b[39m\n\u001b[32m      3\u001b[39m \u001b[38;5;28;01mfrom\u001b[39;00m\u001b[38;5;250m \u001b[39m\u001b[34;01mscipy\u001b[39;00m\u001b[34;01m.\u001b[39;00m\u001b[34;01mstats\u001b[39;00m\u001b[38;5;250m \u001b[39m\u001b[38;5;28;01mimport\u001b[39;00m rv_discrete, poisson, nbinom\n\u001b[32m      4\u001b[39m \u001b[38;5;28;01mfrom\u001b[39;00m\u001b[38;5;250m \u001b[39m\u001b[34;01mscipy\u001b[39;00m\u001b[34;01m.\u001b[39;00m\u001b[34;01mspecial\u001b[39;00m\u001b[38;5;250m \u001b[39m\u001b[38;5;28;01mimport\u001b[39;00m gammaln\n\u001b[32m----> \u001b[39m\u001b[32m5\u001b[39m \u001b[38;5;28;01mfrom\u001b[39;00m\u001b[38;5;250m \u001b[39m\u001b[34;01mscipy\u001b[39;00m\u001b[34;01m.\u001b[39;00m\u001b[34;01m_lib\u001b[39;00m\u001b[34;01m.\u001b[39;00m\u001b[34;01m_util\u001b[39;00m\u001b[38;5;250m \u001b[39m\u001b[38;5;28;01mimport\u001b[39;00m _lazywhere\n\u001b[32m      7\u001b[39m \u001b[38;5;28;01mfrom\u001b[39;00m\u001b[38;5;250m \u001b[39m\u001b[34;01mstatsmodels\u001b[39;00m\u001b[34;01m.\u001b[39;00m\u001b[34;01mbase\u001b[39;00m\u001b[34;01m.\u001b[39;00m\u001b[34;01mmodel\u001b[39;00m\u001b[38;5;250m \u001b[39m\u001b[38;5;28;01mimport\u001b[39;00m GenericLikelihoodModel\n\u001b[32m     10\u001b[39m \u001b[38;5;28;01mclass\u001b[39;00m\u001b[38;5;250m \u001b[39m\u001b[34;01mgenpoisson_p_gen\u001b[39;00m(rv_discrete):\n",
      "\u001b[31mImportError\u001b[39m: cannot import name '_lazywhere' from 'scipy._lib._util' (/Users/prescylliajaelle/Desktop/1Cross Currency/basis-env/lib/python3.11/site-packages/scipy/_lib/_util.py)"
     ]
    }
   ],
   "source": [
    "import statsmodels.api as sm\n",
    "\n",
    "# Select variables\n",
    "X = df[[\"VIX\", \"TED\", \"Fed_Balance_Sheet\"]]\n",
    "X = sm.add_constant(X)\n",
    "y = df[\"USDJPY_Basis\"]\n",
    "\n",
    "# OLS Regression\n",
    "model = sm.OLS(y, X, missing='drop')\n",
    "results = model.fit()\n",
    "print(results.summary())"
   ]
  },
  {
   "cell_type": "markdown",
   "id": "43990ffe",
   "metadata": {},
   "source": [
    "## PCA on Cross-Currency Basis Series"
   ]
  },
  {
   "cell_type": "code",
   "execution_count": null,
   "id": "ae18331f",
   "metadata": {},
   "outputs": [],
   "source": [
    "from sklearn.decomposition import PCA\n",
    "\n",
    "basis_data = df[[\"USDJPY_Basis\", \"USDEUR_Basis\"]].dropna()\n",
    "pca = PCA(n_components=2)\n",
    "components = pca.fit_transform(basis_data)\n",
    "\n",
    "df.loc[basis_data.index, \"PC1\"] = components[:, 0]\n",
    "print(\"Explained Variance Ratios:\", pca.explained_variance_ratio_)\n",
    "pd.DataFrame(pca.components_, columns=[\"USDJPY_Basis\", \"USDEUR_Basis\"], index=[\"PC1\", \"PC2\"])"
   ]
  },
  {
   "cell_type": "markdown",
   "id": "6f8bb939",
   "metadata": {},
   "source": [
    "## Generate Mean Reversion and PCA-Based Signals"
   ]
  },
  {
   "cell_type": "code",
   "execution_count": null,
   "id": "defa7464",
   "metadata": {},
   "outputs": [],
   "source": [
    "# Compute z-scores\n",
    "window = 60\n",
    "df[\"Basis_Mean\"] = df[\"USDJPY_Basis\"].rolling(window).mean()\n",
    "df[\"Basis_Std\"] = df[\"USDJPY_Basis\"].rolling(window).std()\n",
    "df[\"Z_Score_Basis\"] = (df[\"USDJPY_Basis\"] - df[\"Basis_Mean\"]) / df[\"Basis_Std\"]\n",
    "\n",
    "df[\"PC1_Mean\"] = df[\"PC1\"].rolling(window).mean()\n",
    "df[\"PC1_Std\"] = df[\"PC1\"].rolling(window).std()\n",
    "df[\"Z_Score_PC1\"] = (df[\"PC1\"] - df[\"PC1_Mean\"]) / df[\"PC1_Std\"]\n",
    "\n",
    "# Signal function\n",
    "def generate_signals(z, long_thresh=-1.5, short_thresh=1.5, exit_thresh=0.5):\n",
    "    signal = np.zeros_like(z)\n",
    "    position = 0\n",
    "    for i in range(1, len(z)):\n",
    "        if position == 0:\n",
    "            if z[i] < long_thresh:\n",
    "                position = 1\n",
    "            elif z[i] > short_thresh:\n",
    "                position = -1\n",
    "        elif position == 1 and z[i] > -exit_thresh:\n",
    "            position = 0\n",
    "        elif position == -1 and z[i] < exit_thresh:\n",
    "            position = 0\n",
    "        signal[i] = position\n",
    "    return signal\n",
    "\n",
    "df[\"Signal_MeanRev\"] = generate_signals(df[\"Z_Score_Basis\"].values)\n",
    "df[\"Signal_PCA\"] = generate_signals(df[\"Z_Score_PC1\"].values)"
   ]
  },
  {
   "cell_type": "markdown",
   "id": "4c6a05d4",
   "metadata": {},
   "source": [
    "## Backtest Strategies"
   ]
  },
  {
   "cell_type": "code",
   "execution_count": null,
   "id": "60679ab1",
   "metadata": {},
   "outputs": [],
   "source": [
    "df[\"Basis_Return\"] = df[\"USDJPY_Basis\"].diff()\n",
    "df[\"PnL_MeanRev\"] = df[\"Signal_MeanRev\"].shift(1) * df[\"Basis_Return\"]\n",
    "df[\"PnL_PCA\"] = df[\"Signal_PCA\"].shift(1) * df[\"Basis_Return\"]\n",
    "\n",
    "df[\"Cumulative_PnL_MeanRev\"] = df[\"PnL_MeanRev\"].cumsum()\n",
    "df[\"Cumulative_PnL_PCA\"] = df[\"PnL_PCA\"].cumsum()"
   ]
  },
  {
   "cell_type": "markdown",
   "id": "bcaf80a9",
   "metadata": {},
   "source": [
    "## Strategy Performance Metrics"
   ]
  },
  {
   "cell_type": "code",
   "execution_count": null,
   "id": "697f7674",
   "metadata": {},
   "outputs": [],
   "source": [
    "def evaluate_strategy(pnl_series):\n",
    "    pnl = pnl_series.dropna()\n",
    "    returns = pnl.values\n",
    "    total_return = np.sum(returns)\n",
    "    sharpe = np.mean(returns) / np.std(returns) * np.sqrt(252) if np.std(returns) > 0 else 0\n",
    "    cumulative = np.cumsum(returns)\n",
    "    drawdown = cumulative - np.maximum.accumulate(cumulative)\n",
    "    max_drawdown = np.min(drawdown)\n",
    "    win_rate = np.mean(returns > 0)\n",
    "    return total_return, sharpe, max_drawdown, win_rate * 100\n",
    "\n",
    "print(\"Mean Reversion:\", evaluate_strategy(df[\"PnL_MeanRev\"]))\n",
    "print(\"PCA-Based:\", evaluate_strategy(df[\"PnL_PCA\"]))"
   ]
  },
  {
   "cell_type": "markdown",
   "id": "a79793a7",
   "metadata": {},
   "source": [
    "## Visualize Strategy Performance"
   ]
  },
  {
   "cell_type": "code",
   "execution_count": null,
   "id": "e9c51a4c",
   "metadata": {},
   "outputs": [],
   "source": [
    "plt.figure(figsize=(12, 6))\n",
    "plt.plot(df[\"Date\"], df[\"Cumulative_PnL_MeanRev\"], label=\"Mean Reversion\")\n",
    "plt.plot(df[\"Date\"], df[\"Cumulative_PnL_PCA\"], label=\"PCA-Based\")\n",
    "plt.title(\"Cumulative PnL\")\n",
    "plt.legend()\n",
    "plt.grid(True)\n",
    "plt.show()\n",
    "\n",
    "# Drawdown\n",
    "cum = df[\"Cumulative_PnL_MeanRev\"]\n",
    "drawdown = cum - cum.cummax()\n",
    "\n",
    "plt.figure(figsize=(12, 4))\n",
    "plt.plot(df[\"Date\"], drawdown, color=\"red\")\n",
    "plt.title(\"Drawdown – Mean Reversion Strategy\")\n",
    "plt.grid(True)\n",
    "plt.show()"
   ]
  },
  {
   "cell_type": "markdown",
   "id": "b30b9d73",
   "metadata": {},
   "source": [
    "## Conclusion\n",
    "\n",
    "The mean reversion strategy on USD/JPY basis produced strong risk-adjusted returns, while the PCA-based strategy underperformed. Improvements could include better filtering of PC1 signals, transaction cost modeling, and inclusion of macroeconomic regime changes."
   ]
  }
 ],
 "metadata": {
  "kernelspec": {
   "display_name": "Python 3 (ipykernel)",
   "language": "python",
   "name": "python3"
  },
  "language_info": {
   "codemirror_mode": {
    "name": "ipython",
    "version": 3
   },
   "file_extension": ".py",
   "mimetype": "text/x-python",
   "name": "python",
   "nbconvert_exporter": "python",
   "pygments_lexer": "ipython3",
   "version": "3.11.13"
  }
 },
 "nbformat": 4,
 "nbformat_minor": 5
}
